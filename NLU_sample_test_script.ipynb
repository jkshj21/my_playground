{
  "nbformat": 4,
  "nbformat_minor": 0,
  "metadata": {
    "colab": {
      "provenance": []
    },
    "kernelspec": {
      "name": "python3",
      "display_name": "Python 3"
    },
    "language_info": {
      "name": "python"
    }
  },
  "cells": [
    {
      "cell_type": "code",
      "execution_count": 1,
      "metadata": {
        "id": "-pkT_574Iq_i",
        "colab": {
          "base_uri": "https://localhost:8080/"
        },
        "outputId": "c182c701-aee4-43f0-ecbe-0513a09966be"
      },
      "outputs": [
        {
          "output_type": "stream",
          "name": "stdout",
          "text": [
            "Requirement already satisfied: dfcx_scrapi in /usr/local/lib/python3.10/dist-packages (1.10.5)\n",
            "Requirement already satisfied: google-cloud-dialogflow-cx in /usr/local/lib/python3.10/dist-packages (from dfcx_scrapi) (1.33.0)\n",
            "Requirement already satisfied: google-api-core[grpc]!=2.0.*,!=2.1.*,!=2.10.*,!=2.2.*,!=2.3.*,!=2.4.*,!=2.5.*,!=2.6.*,!=2.7.*,!=2.8.*,!=2.9.*,<3.0.0dev,>=1.34.1 in /usr/local/lib/python3.10/dist-packages (from google-cloud-dialogflow-cx->dfcx_scrapi) (2.11.1)\n",
            "Requirement already satisfied: google-auth!=2.24.0,!=2.25.0,<3.0.0dev,>=2.14.1 in /usr/local/lib/python3.10/dist-packages (from google-cloud-dialogflow-cx->dfcx_scrapi) (2.27.0)\n",
            "Requirement already satisfied: proto-plus<2.0.0dev,>=1.22.3 in /usr/local/lib/python3.10/dist-packages (from google-cloud-dialogflow-cx->dfcx_scrapi) (1.23.0)\n",
            "Requirement already satisfied: protobuf!=3.20.0,!=3.20.1,!=4.21.0,!=4.21.1,!=4.21.2,!=4.21.3,!=4.21.4,!=4.21.5,<5.0.0dev,>=3.19.5 in /usr/local/lib/python3.10/dist-packages (from google-cloud-dialogflow-cx->dfcx_scrapi) (3.20.3)\n",
            "Requirement already satisfied: googleapis-common-protos<2.0.dev0,>=1.56.2 in /usr/local/lib/python3.10/dist-packages (from google-api-core[grpc]!=2.0.*,!=2.1.*,!=2.10.*,!=2.2.*,!=2.3.*,!=2.4.*,!=2.5.*,!=2.6.*,!=2.7.*,!=2.8.*,!=2.9.*,<3.0.0dev,>=1.34.1->google-cloud-dialogflow-cx->dfcx_scrapi) (1.63.0)\n",
            "Requirement already satisfied: requests<3.0.0.dev0,>=2.18.0 in /usr/local/lib/python3.10/dist-packages (from google-api-core[grpc]!=2.0.*,!=2.1.*,!=2.10.*,!=2.2.*,!=2.3.*,!=2.4.*,!=2.5.*,!=2.6.*,!=2.7.*,!=2.8.*,!=2.9.*,<3.0.0dev,>=1.34.1->google-cloud-dialogflow-cx->dfcx_scrapi) (2.31.0)\n",
            "Requirement already satisfied: grpcio<2.0dev,>=1.33.2 in /usr/local/lib/python3.10/dist-packages (from google-api-core[grpc]!=2.0.*,!=2.1.*,!=2.10.*,!=2.2.*,!=2.3.*,!=2.4.*,!=2.5.*,!=2.6.*,!=2.7.*,!=2.8.*,!=2.9.*,<3.0.0dev,>=1.34.1->google-cloud-dialogflow-cx->dfcx_scrapi) (1.62.2)\n",
            "Requirement already satisfied: grpcio-status<2.0.dev0,>=1.33.2 in /usr/local/lib/python3.10/dist-packages (from google-api-core[grpc]!=2.0.*,!=2.1.*,!=2.10.*,!=2.2.*,!=2.3.*,!=2.4.*,!=2.5.*,!=2.6.*,!=2.7.*,!=2.8.*,!=2.9.*,<3.0.0dev,>=1.34.1->google-cloud-dialogflow-cx->dfcx_scrapi) (1.48.2)\n",
            "Requirement already satisfied: cachetools<6.0,>=2.0.0 in /usr/local/lib/python3.10/dist-packages (from google-auth!=2.24.0,!=2.25.0,<3.0.0dev,>=2.14.1->google-cloud-dialogflow-cx->dfcx_scrapi) (5.3.3)\n",
            "Requirement already satisfied: pyasn1-modules>=0.2.1 in /usr/local/lib/python3.10/dist-packages (from google-auth!=2.24.0,!=2.25.0,<3.0.0dev,>=2.14.1->google-cloud-dialogflow-cx->dfcx_scrapi) (0.4.0)\n",
            "Requirement already satisfied: rsa<5,>=3.1.4 in /usr/local/lib/python3.10/dist-packages (from google-auth!=2.24.0,!=2.25.0,<3.0.0dev,>=2.14.1->google-cloud-dialogflow-cx->dfcx_scrapi) (4.9)\n",
            "Requirement already satisfied: pyasn1<0.7.0,>=0.4.6 in /usr/local/lib/python3.10/dist-packages (from pyasn1-modules>=0.2.1->google-auth!=2.24.0,!=2.25.0,<3.0.0dev,>=2.14.1->google-cloud-dialogflow-cx->dfcx_scrapi) (0.6.0)\n",
            "Requirement already satisfied: charset-normalizer<4,>=2 in /usr/local/lib/python3.10/dist-packages (from requests<3.0.0.dev0,>=2.18.0->google-api-core[grpc]!=2.0.*,!=2.1.*,!=2.10.*,!=2.2.*,!=2.3.*,!=2.4.*,!=2.5.*,!=2.6.*,!=2.7.*,!=2.8.*,!=2.9.*,<3.0.0dev,>=1.34.1->google-cloud-dialogflow-cx->dfcx_scrapi) (3.3.2)\n",
            "Requirement already satisfied: idna<4,>=2.5 in /usr/local/lib/python3.10/dist-packages (from requests<3.0.0.dev0,>=2.18.0->google-api-core[grpc]!=2.0.*,!=2.1.*,!=2.10.*,!=2.2.*,!=2.3.*,!=2.4.*,!=2.5.*,!=2.6.*,!=2.7.*,!=2.8.*,!=2.9.*,<3.0.0dev,>=1.34.1->google-cloud-dialogflow-cx->dfcx_scrapi) (3.7)\n",
            "Requirement already satisfied: urllib3<3,>=1.21.1 in /usr/local/lib/python3.10/dist-packages (from requests<3.0.0.dev0,>=2.18.0->google-api-core[grpc]!=2.0.*,!=2.1.*,!=2.10.*,!=2.2.*,!=2.3.*,!=2.4.*,!=2.5.*,!=2.6.*,!=2.7.*,!=2.8.*,!=2.9.*,<3.0.0dev,>=1.34.1->google-cloud-dialogflow-cx->dfcx_scrapi) (2.0.7)\n",
            "Requirement already satisfied: certifi>=2017.4.17 in /usr/local/lib/python3.10/dist-packages (from requests<3.0.0.dev0,>=2.18.0->google-api-core[grpc]!=2.0.*,!=2.1.*,!=2.10.*,!=2.2.*,!=2.3.*,!=2.4.*,!=2.5.*,!=2.6.*,!=2.7.*,!=2.8.*,!=2.9.*,<3.0.0dev,>=1.34.1->google-cloud-dialogflow-cx->dfcx_scrapi) (2024.2.2)\n"
          ]
        }
      ],
      "source": [
        "!pip install dfcx_scrapi"
      ]
    },
    {
      "cell_type": "code",
      "source": [
        "agent_id = \"projects/ENTER_PROJECT_ID/locations/ENTER_LOCATION_ID/agents/ENTER_AGENT_ID\" # @param {type:\"string\"}\n",
        "creds_path = \"/content/drive/MyDrive/..\" # @param {type:\"string\"}"
      ],
      "metadata": {
        "id": "5gKOUUbdI74U"
      },
      "execution_count": 2,
      "outputs": []
    },
    {
      "cell_type": "code",
      "source": [
        "import os\n",
        "import numpy as np\n",
        "from google.colab import drive\n",
        "from dfcx_scrapi.tools.dataframe_functions import DataframeFunctions\n",
        "from dfcx_scrapi.core.conversation import DialogflowConversation\n",
        "\n",
        "drive.mount(\"/content/drive\")\n",
        "#os.environ[\"GOOGLE_APPLICATION_CREDENTIALS\"] = creds_path"
      ],
      "metadata": {
        "id": "DmGOw1K5JgRb",
        "colab": {
          "base_uri": "https://localhost:8080/"
        },
        "outputId": "ad0ceac9-4e69-4187-d00e-0f4d58e38422"
      },
      "execution_count": 7,
      "outputs": [
        {
          "output_type": "stream",
          "name": "stdout",
          "text": [
            "Drive already mounted at /content/drive; to attempt to forcibly remount, call drive.mount(\"/content/drive\", force_remount=True).\n"
          ]
        }
      ]
    },
    {
      "cell_type": "code",
      "source": [
        "sheet_name = \"\" # @param {type:\"string\"}\n",
        "worksheet_name = \"\" # @param {type:\"string\"}\n",
        "dffx = DataframeFunctions(creds_path=creds_path)\n",
        "dataset_df = dffx.sheets_to_dataframe(sheet_name=sheet_name, worksheet_name=worksheet_name)"
      ],
      "metadata": {
        "id": "QwyRIdIoJ6_A"
      },
      "execution_count": null,
      "outputs": []
    },
    {
      "cell_type": "code",
      "source": [
        "#Run intent detection test\n",
        "\n",
        "dc = DialogflowConversation(creds_path=creds_path, agent_id=agent_id)\n",
        "results = dc.run_intent_detection(test_set=dataset_df)"
      ],
      "metadata": {
        "id": "v4s0hELhKw59"
      },
      "execution_count": null,
      "outputs": []
    },
    {
      "cell_type": "code",
      "source": [
        "_results = np.where(results[\"expected_intent\"] == results[\"detected_intent\"], \"PASS\", \"FAIL\")\n",
        "results[\"results\"] = _results"
      ],
      "metadata": {
        "id": "djdisty3LDJI"
      },
      "execution_count": null,
      "outputs": []
    },
    {
      "cell_type": "code",
      "source": [
        "#output your results to your sheet\n",
        "output_worksheet_name = \"\" # @param {type:\"string\"}\n",
        "\n",
        "dffx.dataframe_to_sheets(sheet_name=sheet_name, worksheet_name=output_worksheet_name, dataframe=results)"
      ],
      "metadata": {
        "id": "JNkz9EglLRwU"
      },
      "execution_count": null,
      "outputs": []
    }
  ]
}